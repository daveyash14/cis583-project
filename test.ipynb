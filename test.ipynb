{
 "cells": [
  {
   "cell_type": "code",
   "execution_count": 1,
   "metadata": {},
   "outputs": [],
   "source": [
    "import torch\n",
    "import torch.nn as nn\n",
    "import torch.optim as optim\n",
    "from torch.utils.data import DataLoader\n",
    "import torchvision\n",
    "from torchvision import datasets, transforms\n",
    "import numpy as np\n",
    "from torch.utils.data import Subset\n",
    "from tqdm import tqdm\n",
    "\n",
    "\n",
    "## Model\n",
    "\n",
    "class LatentDiffusionModel(nn.Module):\n",
    "    def __init__(self, num_steps, beta_schedule, image_size, num_classes):\n",
    "        super(LatentDiffusionModel, self).__init__()\n",
    "        self.num_steps = num_steps\n",
    "        self.beta_schedule = beta_schedule\n",
    "        self.image_size = image_size\n",
    "        self.num_classes = num_classes\n",
    "\n",
    "        # UNet model for denoising\n",
    "        self.unet = UNet(image_size, num_classes)\n",
    "\n",
    "    def forward(self, x, labels):\n",
    "        # Forward diffusion process\n",
    "        x_noisy = self.diffuse(x)\n",
    "        # Reverse diffusion process\n",
    "        x_reconstructed = self.denoise(x_noisy, labels)\n",
    "        return x_reconstructed\n",
    "\n",
    "    def diffuse(self, x):\n",
    "        # Forward diffusion process\n",
    "        batch_size = x.shape[0]\n",
    "        beta_index = torch.randint(0, len(self.beta_schedule), (1,), device=x.device)\n",
    "        beta = torch.tensor(self.beta_schedule, device=x.device)[beta_index]\n",
    "        eps = torch.randn_like(x)\n",
    "        x_noisy = torch.sqrt(1 - beta) * x + torch.sqrt(beta) * eps\n",
    "        return x_noisy\n",
    "\n",
    "    def denoise(self, x_noisy, labels):\n",
    "        # Reverse diffusion process using UNet\n",
    "        x_reconstructed = self.unet(x_noisy, labels)\n",
    "        return x_reconstructed\n",
    "\n",
    "\n",
    "class UNet(nn.Module):\n",
    "    def __init__(self, image_size, num_classes):\n",
    "        super(UNet, self).__init__()\n",
    "        self.image_size = image_size\n",
    "        self.encoder = nn.Sequential(\n",
    "            nn.Conv2d(1, 64, kernel_size=3),\n",
    "            nn.ReLU(),\n",
    "            nn.Conv2d(64, 64, kernel_size=3),\n",
    "            nn.ReLU(),\n",
    "            nn.MaxPool2d(2),\n",
    "            nn.Conv2d(64, 128, kernel_size=3),\n",
    "            nn.ReLU(),\n",
    "            nn.Conv2d(128, 128, kernel_size=3),\n",
    "            nn.ReLU(),\n",
    "            nn.MaxPool2d(2)\n",
    "        )\n",
    "        self.decoder = nn.Sequential(\n",
    "            nn.ConvTranspose2d(128, 128, kernel_size=2, stride=2),\n",
    "            nn.ReLU(),\n",
    "            nn.Conv2d(128, 64, kernel_size=3),\n",
    "            nn.ReLU(),\n",
    "            nn.ConvTranspose2d(64, 64, kernel_size=2, stride=2),\n",
    "            nn.ReLU(),\n",
    "            nn.Conv2d(64, 1, kernel_size=3),\n",
    "            nn.Upsample(size=(image_size, image_size), mode='nearest')\n",
    "        )\n",
    "        self.fc = nn.Linear(12800, num_classes)\n",
    "\n",
    "    def forward(self, x, labels):\n",
    "        x = self.encoder(x)\n",
    "        x = self.decoder(x)\n",
    "        # x = x.view(-1, 1, self.image_size, self.image_size)\n",
    "        return x\n",
    "\n",
    "\n",
    "## Training\n",
    "\n",
    "def train(model, device, loader, optimizer):\n",
    "    model.train()\n",
    "    total_loss = 0\n",
    "    for batch_idx, (data, labels) in tqdm(enumerate(loader)):\n",
    "        data, labels = data.to(device), labels.to(device)\n",
    "        optimizer.zero_grad()\n",
    "        loss = nn.MSELoss()(model(data, labels), data)\n",
    "        loss.backward()\n",
    "        total_loss += loss.item()\n",
    "        optimizer.step()\n",
    "    return total_loss"
   ]
  },
  {
   "cell_type": "code",
   "execution_count": 2,
   "metadata": {},
   "outputs": [
    {
     "name": "stderr",
     "output_type": "stream",
     "text": [
      "/var/folders/gc/kz__mt8x4_5dt3kw4bq0vxm80000gn/T/ipykernel_95069/4230208394.py:23: FutureWarning: You are using `torch.load` with `weights_only=False` (the current default value), which uses the default pickle module implicitly. It is possible to construct malicious pickle data which will execute arbitrary code during unpickling (See https://github.com/pytorch/pytorch/blob/main/SECURITY.md#untrusted-models for more details). In a future release, the default value for `weights_only` will be flipped to `True`. This limits the functions that could be executed during unpickling. Arbitrary objects will no longer be allowed to be loaded via this mode unless they are explicitly allowlisted by the user via `torch.serialization.add_safe_globals`. We recommend you start setting `weights_only=True` for any use case where you don't have full control of the loaded file. Please open an issue on GitHub for any issues related to this experimental feature.\n",
      "  checkpoint = torch.load(os.path.join(save_dir, \"test_model.pth\"))\n",
      "0it [00:00, ?it/s]/var/folders/gc/kz__mt8x4_5dt3kw4bq0vxm80000gn/T/ipykernel_95069/462672255.py:36: UserWarning: To copy construct from a tensor, it is recommended to use sourceTensor.clone().detach() or sourceTensor.clone().detach().requires_grad_(True), rather than torch.tensor(sourceTensor).\n",
      "  beta = torch.tensor(self.beta_schedule, device=x.device)[beta_index]\n",
      "469it [00:21, 21.61it/s]\n"
     ]
    },
    {
     "name": "stdout",
     "output_type": "stream",
     "text": [
      "Epoch 1: loss 16.321698581799865\n"
     ]
    },
    {
     "name": "stderr",
     "output_type": "stream",
     "text": [
      "469it [00:20, 22.62it/s]\n"
     ]
    },
    {
     "name": "stdout",
     "output_type": "stream",
     "text": [
      "Epoch 2: loss 14.918924437835813\n"
     ]
    },
    {
     "name": "stderr",
     "output_type": "stream",
     "text": [
      "469it [00:20, 22.97it/s]\n"
     ]
    },
    {
     "name": "stdout",
     "output_type": "stream",
     "text": [
      "Epoch 3: loss 14.97326336428523\n"
     ]
    },
    {
     "name": "stderr",
     "output_type": "stream",
     "text": [
      "469it [00:20, 22.91it/s]\n"
     ]
    },
    {
     "name": "stdout",
     "output_type": "stream",
     "text": [
      "Epoch 4: loss 14.995620805770159\n"
     ]
    },
    {
     "name": "stderr",
     "output_type": "stream",
     "text": [
      "469it [00:20, 22.93it/s]\n"
     ]
    },
    {
     "name": "stdout",
     "output_type": "stream",
     "text": [
      "Epoch 5: loss 15.076764795929193\n"
     ]
    },
    {
     "name": "stderr",
     "output_type": "stream",
     "text": [
      "469it [00:20, 22.72it/s]\n"
     ]
    },
    {
     "name": "stdout",
     "output_type": "stream",
     "text": [
      "Epoch 6: loss 15.052134364843369\n"
     ]
    },
    {
     "name": "stderr",
     "output_type": "stream",
     "text": [
      "469it [00:20, 22.88it/s]\n"
     ]
    },
    {
     "name": "stdout",
     "output_type": "stream",
     "text": [
      "Epoch 7: loss 15.043930785730481\n"
     ]
    },
    {
     "name": "stderr",
     "output_type": "stream",
     "text": [
      "469it [00:20, 22.41it/s]\n"
     ]
    },
    {
     "name": "stdout",
     "output_type": "stream",
     "text": [
      "Epoch 8: loss 15.196451039984822\n"
     ]
    },
    {
     "name": "stderr",
     "output_type": "stream",
     "text": [
      "469it [00:20, 22.55it/s]\n"
     ]
    },
    {
     "name": "stdout",
     "output_type": "stream",
     "text": [
      "Epoch 9: loss 15.058574741706252\n"
     ]
    },
    {
     "name": "stderr",
     "output_type": "stream",
     "text": [
      "469it [00:20, 22.91it/s]"
     ]
    },
    {
     "name": "stdout",
     "output_type": "stream",
     "text": [
      "Epoch 10: loss 15.021409897133708\n"
     ]
    },
    {
     "name": "stderr",
     "output_type": "stream",
     "text": [
      "\n"
     ]
    }
   ],
   "source": [
    "import os\n",
    "\n",
    "# Device\n",
    "device = torch.device(\"mps\" if torch.backends.mps.is_available() else \"cpu\")\n",
    "\n",
    "# Hyperparameters\n",
    "num_steps = 1000\n",
    "# beta_schedule = np.linspace(0.0001, 0.02, num_steps)\n",
    "beta_schedule = torch.linspace(0.0001, 0.02, num_steps, device=device)\n",
    "image_size = 28\n",
    "num_classes = 10\n",
    "batch_size = 128\n",
    "epochs = 10\n",
    "\n",
    "save_dir = \"checkpoints\"\n",
    "\n",
    "# Create directories\n",
    "os.makedirs(save_dir, exist_ok=True)\n",
    "\n",
    "# Model\n",
    "model = LatentDiffusionModel(num_steps, beta_schedule, image_size, num_classes)\n",
    "save_dir = \"checkpoints\"\n",
    "checkpoint = torch.load(os.path.join(save_dir, \"test_model.pth\"))\n",
    "model.load_state_dict(checkpoint['model'])\n",
    "model.to(device)\n",
    "\n",
    "# Data\n",
    "transform = transforms.Compose([transforms.ToTensor()])\n",
    "trainset = datasets.MNIST(root='./data', train=True, download=True, transform=transform)\n",
    "# trainset = Subset(trainset, indices=range(1000))\n",
    "train_loader = DataLoader(trainset, batch_size=batch_size, shuffle=True)\n",
    "\n",
    "\n",
    "# Optimizer\n",
    "optimizer = optim.Adam(model.parameters(), lr=0.01)\n",
    "\n",
    "# Train\n",
    "for epoch in range(1, epochs + 1):\n",
    "    loss = train(model, device, train_loader, optimizer)\n",
    "    print(f'Epoch {epoch}: loss {loss}')\n",
    "\n",
    "    if (epoch+1)%epochs == 0:\n",
    "        # Save checkpoint\n",
    "        torch.save({\n",
    "            'model': model.state_dict()\n",
    "        }, os.path.join(save_dir, f\"test_model.pth\"))"
   ]
  },
  {
   "cell_type": "code",
   "execution_count": 73,
   "metadata": {},
   "outputs": [
    {
     "name": "stderr",
     "output_type": "stream",
     "text": [
      "/var/folders/gc/kz__mt8x4_5dt3kw4bq0vxm80000gn/T/ipykernel_95069/627584839.py:8: FutureWarning: You are using `torch.load` with `weights_only=False` (the current default value), which uses the default pickle module implicitly. It is possible to construct malicious pickle data which will execute arbitrary code during unpickling (See https://github.com/pytorch/pytorch/blob/main/SECURITY.md#untrusted-models for more details). In a future release, the default value for `weights_only` will be flipped to `True`. This limits the functions that could be executed during unpickling. Arbitrary objects will no longer be allowed to be loaded via this mode unless they are explicitly allowlisted by the user via `torch.serialization.add_safe_globals`. We recommend you start setting `weights_only=True` for any use case where you don't have full control of the loaded file. Please open an issue on GitHub for any issues related to this experimental feature.\n",
      "  checkpoint = torch.load(os.path.join(save_dir, \"test_model.pth\"))\n"
     ]
    },
    {
     "data": {
      "image/png": "[encoded data removed]",
      "text/plain": [
       "<Figure size 640x480 with 1 Axes>"
      ]
     },
     "metadata": {},
     "output_type": "display_data"
    }
   ],
   "source": [
    "import torch\n",
    "import matplotlib.pyplot as plt\n",
    "\n",
    "# Load the trained model\n",
    "# model = LatentDiffusionModel(num_steps=1000, beta_schedule=beta_schedule, image_size=image_size, num_classes=num_classes)\n",
    "\n",
    "save_dir = \"checkpoints\"\n",
    "checkpoint = torch.load(os.path.join(save_dir, \"test_model.pth\"))\n",
    "model.load_state_dict(checkpoint['model'])\n",
    "\n",
    "model.eval()\n",
    "\n",
    "# Move the model to the device\n",
    "# model.to(device)\n",
    "\n",
    "# Generate a random noise tensor\n",
    "noise = torch.randn(1, 1, 28, 28).to(device)\n",
    "\n",
    "# Use the reverse diffusion process to generate a new image\n",
    "with torch.no_grad():\n",
    "    generated_image = model.denoise(model.unet(noise, None), None)\n",
    "\n",
    "# Plot the generated image\n",
    "plt.imshow(generated_image.squeeze().cpu().numpy(), cmap='gray')\n",
    "plt.show()"
   ]
  }
 ],
 "metadata": {
  "kernelspec": {
   "display_name": "CIS583",
   "language": "python",
   "name": "python3"
  },
  "language_info": {
   "codemirror_mode": {
    "name": "ipython",
    "version": 3
   },
   "file_extension": ".py",
   "mimetype": "text/x-python",
   "name": "python",
   "nbconvert_exporter": "python",
   "pygments_lexer": "ipython3",
   "version": "3.9.6"
  }
 },
 "nbformat": 4,
 "nbformat_minor": 2
}
