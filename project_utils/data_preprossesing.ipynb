{
 "cells": [
  {
   "cell_type": "code",
   "execution_count": 1,
   "metadata": {
    "colab": {
     "base_uri": "https://localhost:8080/"
    },
    "executionInfo": {
     "elapsed": 2946,
     "status": "ok",
     "timestamp": 1731958370396,
     "user": {
      "displayName": "Yash Dave",
      "userId": "08185201348993903001"
     },
     "user_tz": 300
    },
    "id": "Xc0JyoJavdQm",
    "outputId": "d6975399-2dbf-4f45-a271-64943195dc2f"
   },
   "outputs": [],
   "source": [
    "%load_ext autoreload\n",
    "%autoreload 2\n",
    "\n",
    "COLAB = False\n",
    "\n",
    "import os\n",
    "import sys\n",
    "\n",
    "\n",
    "input_file = \"flickr30k/captions.txt\"\n",
    "output_file = \"flickr30k/cleaned_captions.txt\"\n",
    "\n",
    "if COLAB:\n",
    "    \n",
    "    from google.colab import drive\n",
    "    drive.mount('/content/drive', force_remount=True)\n",
    "\n",
    "    GOOGLE_DRIVE_PATH_AFTER_MYDRIVE = \"CIS583/Project/\"\n",
    "    assert GOOGLE_DRIVE_PATH_AFTER_MYDRIVE is not None\n",
    "    GOOGLE_DRIVE_PATH = os.path.join('drive', 'MyDrive', GOOGLE_DRIVE_PATH_AFTER_MYDRIVE)\n",
    "    print(os.listdir(GOOGLE_DRIVE_PATH))\n",
    "    print(GOOGLE_DRIVE_PATH)\n",
    "\n",
    "    sys.path.append(GOOGLE_DRIVE_PATH)\n",
    "    print(sys.path)\n",
    "\n",
    "    input_file = os.path.join(GOOGLE_DRIVE_PATH, input_file)\n",
    "    output_file = os.path.join(GOOGLE_DRIVE_PATH, output_file)\n",
    "\n",
    "else:\n",
    "\n",
    "    root_dir = os.getcwd()\n",
    "    root_dir = os.path.join(root_dir, \"..\")\n",
    "    input_file = os.path.join(root_dir, \"flickr30k/captions.txt\")\n",
    "    output_file = os.path.join(root_dir, \"flickr30k/cleaned_captions.txt\")"
   ]
  },
  {
   "cell_type": "code",
   "execution_count": 6,
   "metadata": {
    "executionInfo": {
     "elapsed": 3,
     "status": "ok",
     "timestamp": 1731958370396,
     "user": {
      "displayName": "Yash Dave",
      "userId": "08185201348993903001"
     },
     "user_tz": 300
    },
    "id": "TQpAvSikvw_5"
   },
   "outputs": [],
   "source": [
    "\n",
    "with open(input_file, \"r\") as infile, open(output_file, \"w\") as outfile:\n",
    "    # Skip the first row\n",
    "    next(infile)\n",
    "    for line in infile:\n",
    "        # Split at the first comma to separate image ID from caption\n",
    "        parts = line.strip().split(\",\", 1)\n",
    "        if len(parts) == 2:\n",
    "            image_id = parts[0].strip()\n",
    "            caption = parts[1].strip()\n",
    "            # Remove excess spaces or unwanted characters\n",
    "            caption = caption.replace(\"\\n\", \"\").strip()\n",
    "            # Write to the new file\n",
    "            outfile.write(f\"{image_id}\\t{caption}\\n\")\n",
    "\n"
   ]
  }
 ],
 "metadata": {
  "colab": {
   "authorship_tag": "ABX9TyMDw3/SBm05cmEvpQBRWqAd",
   "provenance": []
  },
  "kernelspec": {
   "display_name": "CIS583",
   "language": "python",
   "name": "python3"
  },
  "language_info": {
   "codemirror_mode": {
    "name": "ipython",
    "version": 3
   },
   "file_extension": ".py",
   "mimetype": "text/x-python",
   "name": "python",
   "nbconvert_exporter": "python",
   "pygments_lexer": "ipython3",
   "version": "3.9.6"
  }
 },
 "nbformat": 4,
 "nbformat_minor": 0
}
